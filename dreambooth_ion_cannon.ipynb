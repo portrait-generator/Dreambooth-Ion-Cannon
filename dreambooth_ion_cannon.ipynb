{
 "cells": [
  {
   "cell_type": "markdown",
   "metadata": {},
   "source": [
    "# Dreambooth: Generating Stable Diffusion Portaits"
   ]
  },
  {
   "cell_type": "markdown",
   "metadata": {},
   "source": [
    "    This notebook is based on the work of Laurence Day and the \"The Repo Formerly Known As Dreambooth\" by Joe Penna and his many extraordinarily talented collaborators, and further tweaks to the training process have been made by Kane Wallmann. \n",
    "    \n",
    "    Over the course of a first run of this repository, approximately 5.2GB will be downloaded (excluding packages).\n",
    "    You won't have to worry about those downloads though, they happen automatically, just note that they take time.\n",
    "    \n",
    "    There may well be long stretches of time where it looks to you as if nothing is happening (i.e. no images are\n",
    "    appearing in the /outputs directory). If the icon for the tab that this notebook is running in is an orange \n",
    "    hour-glass, things are still grinding along. If it's changed back to an orange book, then it's done.\n",
    "    \n",
    "    While you're running things, you can scroll down and see which cells have 'completed' and which are either running\n",
    "    or are still scheduled to run. To the left of each cell is a little [] icon - if it looks like [*] it's still queued,\n",
    "    whereas if it's got a number in it like [5] then it has already completed.\n",
    "    \n",
    "    Some provisos:\n",
    "        * I have bundled Stable Diffusion 1.4 in the repository containing this notebook. Please read the license \n",
    "          file `STABLE DIFFUSION LICENSE.md` in order to understand what you implicitly agree to by making use of this tech.\n",
    "          The long and short of it is that so long as you don't approach this tool with ill intent, you're fine.\n",
    "        * Despite Kane's adjustments enabling multi-subject training, this repo *at present* is designed to only accept \n",
    "          one subject at a time - that's what the prompts are expecting, so training multiple people is a waste. In future\n",
    "          iterations of this repository, I will introduce some branching logic allowing you to select how many people you\n",
    "          want to include in the generated images."
   ]
  },
  {
   "cell_type": "markdown",
   "metadata": {},
   "source": [
    "# Naming And Classification"
   ]
  },
  {
   "cell_type": "markdown",
   "metadata": {},
   "source": [
    "\\*\\*\\* This is the **only** cell you have to edit. \\*\\*\\* \n",
    "\n",
    "Before you opened this notebook per instructions from the repository, you should have uploaded 8-10 .png photographs of the person you are trying to generate images for into the directory `/training_samples/{class}` with filenames:\n",
    "\n",
    "* `name class_001.png`\n",
    "* `name class_001.png`\n",
    "* ...\n",
    "* `name class_00n.png`\n",
    "\n",
    "If you haven't done this, go back to the README of this repository (scroll down from the link you were given) and give it a go.\n",
    "\n",
    "Your choices for class are `man`, `woman`, `person`, `dog` or `cat`, whereas name is dealers choice, but do keep it as a single word (i.e. no spaces).\n",
    "\n",
    "**For example**, if you're trying to train on Princess Diana, your files would be called `princessdiana woman_001.png` et cetera.\n",
    "\n",
    "**It is advisable to use a name choice so that - if you're called Willow, for example - the model doesn't think you're Willow from Buffy, or think you're Asian if your name is Jian. I recommend using a name such as `jianthisisdefinitelyme` if you have a name that could cause confusion.**\n",
    "\n",
    "The spacing and underscores are important here, so please double-check.\n",
    "\n",
    "In the cell below, edit the variables to reflect the `name` and `class` you have chosen. _Again_, please check for accuracy."
   ]
  },
  {
   "cell_type": "code",
   "execution_count": null,
   "metadata": {
    "scrolled": true
   },
   "outputs": [],
   "source": [
    "target_name = \"princessdiana\"\n",
    "\n",
    "target_class = \"woman\""
   ]
  },
  {
   "cell_type": "markdown",
   "metadata": {},
   "source": [
    "### If you do not want to adjust any of the optional parameters (see below)...\n",
    "\n",
    "# You can now click *Cell > Run All* from the menu bar above.\n",
    "\n",
    "## Go away for 90 minutes."
   ]
  },
  {
   "cell_type": "markdown",
   "metadata": {},
   "source": [
    "---\n",
    "\n",
    "## Optional Parameters\n",
    "\n",
    "The `run_length` variable dictates how many images are generated for each prompt.\n",
    "\n",
    "The default, `medium`, produces 64 images per prompt, but should you choose, you can edit this to either:\n",
    "\n",
    "* `short` - _25_ images per prompt\n",
    "* `medium` - _64_ images per prompt\n",
    "* `long` - _100_ images per prompt\n",
    "\n",
    "Note that shortening the run length will produce results faster, but give you fewer results from which to select a true likeness, whereas lengthening it will slow things down by a fair margin, but produce a much wider choice at the end.\n"
   ]
  },
  {
   "cell_type": "code",
   "execution_count": null,
   "metadata": {},
   "outputs": [],
   "source": [
    "run_length = \"short\""
   ]
  },
  {
   "cell_type": "markdown",
   "metadata": {},
   "source": [
    "# Build Environment"
   ]
  },
  {
   "cell_type": "code",
   "execution_count": null,
   "metadata": {
    "id": "9e1bc458-091b-42f4-a125-c3f0df20f29d",
    "scrolled": true
   },
   "outputs": [],
   "source": [
    "import os\n",
    "\n",
    "prereq_pass_file = '/workspace/Dreambooth-Ion-Cannon/install_done'\n",
    "packages_installed = os.path.exists(prereq_pass_file)\n",
    "print('Packages installed?: ' + str(packages_installed))\n",
    "\n",
    "if (not packages_installed):\n",
    "    #BUILD ENV\n",
    "    !pip install omegaconf\n",
    "    !pip install einops\n",
    "    !pip install pytorch-lightning==1.6.5\n",
    "    !pip install test-tube\n",
    "    !pip install transformers\n",
    "    !pip install kornia\n",
    "    !pip install -e git+https://github.com/CompVis/taming-transformers.git@master#egg=taming-transformers\n",
    "    !pip install -e git+https://github.com/openai/CLIP.git@main#egg=clip\n",
    "    !pip install setuptools==59.5.0\n",
    "    !pip install pillow==9.0.1\n",
    "    !pip install torchmetrics==0.6.0\n",
    "    !pip install -e .\n",
    "    !pip install protobuf==3.20.1\n",
    "    !pip install gdown\n",
    "    !pip install pydrive\n",
    "    !pip install -qq diffusers[\"training\"]==0.3.0 transformers ftfy\n",
    "    !pip install -qq \"ipywidgets>=7,<8\"\n",
    "    !pip install ipywidgets==7.7.1\n",
    "    !pip install py7zr==0.20.0\n",
    "    !pip install multivolumefile\n",
    "\n",
    "    # Lazy way of marking installation completion to save time on Cell > Run All repeats\n",
    "    finished = open('install_done', 'w+')\n",
    "    finished.close()"
   ]
  },
  {
   "cell_type": "markdown",
   "metadata": {},
   "source": [
    "# Downloading/Reconstituting Stable Diffusion v1.4"
   ]
  },
  {
   "cell_type": "code",
   "execution_count": null,
   "metadata": {
    "id": "dae11c10"
   },
   "outputs": [],
   "source": [
    "model_path = '/workspace/Dreambooth-Ion-Cannon/model.ckpt'\n",
    "valid_model_size = 4265380512 # doing this instead of SHA256 checksum, it's quicker\n",
    "\n",
    "already_exists = os.path.exists(model_path)\n",
    "print('Does model.ckpt exist: ' + str(already_exists))\n",
    "correct_model_size = False\n",
    "\n",
    "if (already_exists):\n",
    "    model_size = os.path.getsize(model_path)\n",
    "    print('model.ckpt size in bytes: ' + str(model_size))\n",
    "    if (model_size == valid_model_size):\n",
    "        print('No need to (re)download, model already present')\n",
    "        correct_model_size= True\n",
    "\n",
    "if ((not already_exists) or (not correct_model_size)):\n",
    "    !git clone https://github.com/laurenceday/Stable-Diffusion-1.4.git\n",
    "    # TODO We may want to save our own copy of stable diffusion\n",
    "\n",
    "    import multivolumefile\n",
    "    import py7zr\n",
    "    with multivolumefile.open('/workspace/Dreambooth-Ion-Cannon/Stable-Diffusion-1.4/model.7z', mode='rb') as target_archive:\n",
    "        with py7zr.SevenZipFile(target_archive, 'r') as archive:\n",
    "            archive.extractall()\n",
    "    \n",
    "    # Remove repository and contents so git doesn't complain if it needs to rerun\n",
    "    !rm -rf '/workspace/Dreambooth-Ion-Cannon/Stable-Diffusion-1.4'"
   ]
  },
  {
   "cell_type": "markdown",
   "metadata": {},
   "source": [
    "# Retrieving Regularisation Images"
   ]
  },
  {
   "cell_type": "code",
   "execution_count": null,
   "metadata": {},
   "outputs": [],
   "source": [
    "!git clone https://github.com/laurenceday/Ion-Cannon-Regularisation-{target_class}.git\n",
    "\n",
    "# TODO If we want to replace regularisation images, we can create new directories here\n",
    "!mkdir -p regularisation_images/{target_class}\n",
    "!mv -v Ion-Cannon-Regularisation-{target_class}/{target_class}/*.* regularisation_images/{target_class}"
   ]
  },
  {
   "cell_type": "markdown",
   "metadata": {
    "id": "ad4e50df"
   },
   "source": [
    "# Training and Pruning"
   ]
  },
  {
   "cell_type": "code",
   "execution_count": null,
   "metadata": {},
   "outputs": [],
   "source": [
    "target_token = f\"{target_name} {target_class}\"\n",
    "project_name = f\"{target_name}_model\"\n",
    "model_name = f\"{project_name}.ckpt\""
   ]
  },
  {
   "cell_type": "code",
   "execution_count": null,
   "metadata": {
    "id": "6fa5dd66-2ca0-4819-907e-802e25583ae6",
    "tags": []
   },
   "outputs": [],
   "source": [
    "!rm -rf training_samples/{target_class}/.ipynb_checkpoints\n",
    "!python \"main.py\" \\\n",
    " --base configs/stable-diffusion/v1-finetune_unfrozen.yaml \\\n",
    " -t \\\n",
    " --actual_resume \"model.ckpt\" \\\n",
    " --reg_data_root \"/workspace/Dreambooth-Ion-Cannon/regularisation_images\" \\\n",
    " -n {project_name} \\\n",
    " --gpus 0, \\\n",
    " --data_root \"/workspace/Dreambooth-Ion-Cannon/training_samples\" \\\n",
    " --max_training_steps 1000 \\\n",
    " --no-test"
   ]
  },
  {
   "cell_type": "code",
   "execution_count": null,
   "metadata": {},
   "outputs": [],
   "source": [
    "directory_paths = !ls -d logs/*"
   ]
  },
  {
   "cell_type": "code",
   "execution_count": null,
   "metadata": {},
   "outputs": [],
   "source": [
    "# This version should automatically prune around 10GB from the ckpt file\n",
    "last_checkpoint_file = directory_paths[-1] + \"/checkpoints/last.ckpt\"\n",
    "!python \"prune_ckpt.py\" --ckpt {last_checkpoint_file}"
   ]
  },
  {
   "cell_type": "code",
   "execution_count": null,
   "metadata": {},
   "outputs": [],
   "source": [
    "last_checkpoint_file_pruned = directory_paths[-1] + \"/checkpoints/last-pruned.ckpt\"\n",
    "!mkdir -p trained_models\n",
    "!mv {last_checkpoint_file_pruned} trained_models/{model_name}\n",
    "# TODO if we want to save the model on a server somewhere, this is the file we should save"
   ]
  },
  {
   "cell_type": "code",
   "execution_count": null,
   "metadata": {},
   "outputs": [],
   "source": [
    "model_path = f\"/workspace/Dreambooth-Ion-Cannon/trained_models/{model_name}\""
   ]
  },
  {
   "cell_type": "markdown",
   "metadata": {},
   "source": [
    "# Image Generation Variable Setup"
   ]
  },
  {
   "cell_type": "code",
   "execution_count": null,
   "metadata": {},
   "outputs": [],
   "source": [
    "if (run_length == \"short\"):\n",
    "    sample_n = 5\n",
    "elif (run_length == \"long\"):\n",
    "    sample_n = 10\n",
    "else:\n",
    "    sample_n = 8"
   ]
  },
  {
   "cell_type": "markdown",
   "metadata": {},
   "source": [
    "# Regular Image Generation"
   ]
  },
  {
   "cell_type": "code",
   "execution_count": null,
   "metadata": {},
   "outputs": [],
   "source": [
    "!python scripts/stable_txt2img.py \\\n",
    " --ddim_eta 0.0 \\\n",
    " --n_samples 2 \\\n",
    " --n_iter 2 \\\n",
    " --seed 42 \\\n",
    " --scale 10.0 \\\n",
    " --ddim_steps 100 \\\n",
    " --ckpt {model_path} \\\n",
    " --prompt \"{target_token}\" \\\n",
    " --outloc \"{target_name}_raw\" \\\n",
    " --outdir \"outputs/{target_name}_raw\""
   ]
  },
  {
   "cell_type": "code",
   "execution_count": null,
   "metadata": {},
   "outputs": [],
   "source": [
    "!python scripts/stable_txt2img.py \\\n",
    " --ddim_eta 0.0 \\\n",
    " --n_samples {sample_n} \\\n",
    " --n_iter {sample_n} \\\n",
    " --seed 1201562208 \\\n",
    " --scale 10.0 \\\n",
    " --ddim_steps 100 \\\n",
    " --ckpt {model_path} \\\n",
    " --prompt \"digital painting of {target_token} by greg rutkowski neon cyberpunk\" \\\n",
    " --outloc \"{target_name}_cyberpunk\" \\\n",
    " --outdir \"outputs/{target_name}_cyberpunk\""
   ]
  },
  {
   "cell_type": "code",
   "execution_count": null,
   "metadata": {},
   "outputs": [],
   "source": [
    "!python scripts/stable_txt2img.py \\\n",
    " --ddim_eta 0.0 \\\n",
    " --n_samples {sample_n} \\\n",
    " --n_iter {sample_n} \\\n",
    " --seed 1337 \\\n",
    " --scale 10.0 \\\n",
    " --ddim_steps 100 \\\n",
    " --ckpt {model_path} \\\n",
    " --prompt \"{target_token} cosmic background realistic shaded perfect face, fine details by realistic shaded lighting poster by ilya kuvshinov katsuhiro otomo, magali villeneuve, artgerm, jeremy lipkin and michael garmash and rob rey\" \\\n",
    " --outloc \"{target_name}_cosmic2\" \\\n",
    " --outdir \"outputs/{target_name}_cosmic2\""
   ]
  },
  {
   "cell_type": "code",
   "execution_count": null,
   "metadata": {},
   "outputs": [],
   "source": [
    "!python scripts/stable_txt2img.py \\\n",
    " --ddim_eta 0.0 \\\n",
    " --n_samples {sample_n} \\\n",
    " --n_iter {sample_n} \\\n",
    " --seed 1694397999 \\\n",
    " --scale 10.0 \\\n",
    " --ddim_steps 100 \\\n",
    " --ckpt {model_path} \\\n",
    " --prompt \"a beautiful portrait of {target_token}, with isolated flowers with strong dark comic outlines, colorful, psychedelic, intricate, elegant, highly detailed, digital painting, artstation, concept art, smooth, sharp focus, illustration, art by artgerm and greg rutkowski and alphonse mucha\" \\\n",
    " --outloc \"{target_name}_flowers\" \\\n",
    " --outdir \"outputs/{target_name}_flowers\""
   ]
  },
    {
   "cell_type": "code",
   "execution_count": null,
   "metadata": {},
   "outputs": [],
   "source": [
    "!python scripts/stable_txt2img.py \\\n",
    " --ddim_eta 0.0 \\\n",
    " --n_samples {sample_n} \\\n",
    " --n_iter {sample_n} \\\n",
    " --seed 1694397999 \\\n",
    " --scale 10.0 \\\n",
    " --ddim_steps 100 \\\n",
    " --ckpt {model_path} \\\n",
    " --prompt \"up close portrait of a beautiful {target_token} in black and white, photorealistic, art by diego fazio and diegoKoi and oscar Ukono, concept art, sharp focus, artgerm, 8k highly detailed\" \\\n",
    " --outloc \"{target_name}_blackwhite\" \\\n",
    " --outdir \"outputs/{target_name}_blackwhite\""
   ]
  },
    {
   "cell_type": "code",
   "execution_count": null,
   "metadata": {},
   "outputs": [],
   "source": [
    "!python scripts/stable_txt2img.py \\\n",
    " --ddim_eta 0.0 \\\n",
    " --n_samples {sample_n} \\\n",
    " --n_iter {sample_n} \\\n",
    " --seed 1033162293 \\\n",
    " --scale 10.0 \\\n",
    " --ddim_steps 100 \\\n",
    " --ckpt {model_path} \\\n",
    " --prompt \"Ultra realistic medium shot of a cyborg with face of {target_token}, cyberpunk, sci - fi, kodak, faces, colour led, soft light, volumetric lighting, fog, rays, night, intricate detailed, digital painting, concept art, smooth, sharp focus, illustration, art by artgerm and greg rutkowski and alphonse mucha\" \\\n",
    " --outloc \"{target_name}_cyborg\" \\\n",
    " --outdir \"outputs/{target_name}_cyborg\""
   ]
  },
  {
   "cell_type": "code",
   "execution_count": null,
   "metadata": {},
   "outputs": [],
   "source": [
    "!python scripts/stable_txt2img.py \\\n",
    " --ddim_eta 0.0 \\\n",
    " --n_samples {sample_n} \\\n",
    " --n_iter {sample_n} \\\n",
    " --seed 1694397999 \\\n",
    " --scale 10.0 \\\n",
    " --ddim_steps 100 \\\n",
    " --ckpt {model_path} \\\n",
    " --prompt \"a colored pencil portrait of {target_token} standing in a backyard with falling leaves, autumn, red, yellow, orange\" \\\n",
    " --outloc \"{target_name}_autumn\" \\\n",
    " --outdir \"outputs/{target_name}_autumn\""
   ]
  },
  {
   "cell_type": "code",
   "execution_count": null,
   "metadata": {},
   "outputs": [],
   "source": [
    "!python scripts/stable_txt2img.py \\\n",
    " --ddim_eta 0.0 \\\n",
    " --n_samples {sample_n} \\\n",
    " --n_iter {sample_n} \\\n",
    " --seed 2283716726 \\\n",
    " --scale 10.0 \\\n",
    " --ddim_steps 100 \\\n",
    " --ckpt {model_path} \\\n",
    " --prompt \"Portrait of a beautiful {target_token}, intricate, elegant, highly detailed, occult imagery, digital painting, artstation, concept art, illustration, by gil elvgen, greg manchess, mucha\" \\\n",
    " --outloc \"{target_name}_paint\" \\\n",
    " --outdir \"outputs/{target_name}_paint\""
   ]
  }
 ],
 "metadata": {
  "colab": {
   "collapsed_sections": [],
   "provenance": []
  },
  "kernelspec": {
   "display_name": "Python 3",
   "language": "python",
   "name": "python3"
  },
  "language_info": {
   "codemirror_mode": {
    "name": "ipython",
    "version": 3
   },
   "file_extension": ".py",
   "mimetype": "text/x-python",
   "name": "python",
   "nbconvert_exporter": "python",
   "pygments_lexer": "ipython3",
   "version": "3.8.5"
  },
  "vscode": {
   "interpreter": {
    "hash": "b0fa6594d8f4cbf19f97940f81e996739fb7646882a419484c72d19e05852a7e"
   }
  }
 },
 "nbformat": 4,
 "nbformat_minor": 5
}
